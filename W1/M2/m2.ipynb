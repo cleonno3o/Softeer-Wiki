{
 "cells": [
  {
   "cell_type": "markdown",
   "metadata": {},
   "source": [
    "# Mission 2"
   ]
  },
  {
   "cell_type": "code",
   "execution_count": 29,
   "metadata": {},
   "outputs": [],
   "source": [
    "import sqlite3 as sql"
   ]
  },
  {
   "cell_type": "markdown",
   "metadata": {},
   "source": [
    "### 데모 DB 생성"
   ]
  },
  {
   "cell_type": "code",
   "execution_count": 30,
   "metadata": {},
   "outputs": [
    {
     "data": {
      "text/plain": [
       "sqlite3.Connection"
      ]
     },
     "execution_count": 30,
     "metadata": {},
     "output_type": "execute_result"
    }
   ],
   "source": [
    "con = sql.connect('./mission2.db')\n",
    "type(con)"
   ]
  },
  {
   "cell_type": "code",
   "execution_count": null,
   "metadata": {},
   "outputs": [],
   "source": [
    "cursor = con.cursor()\n",
    "create_cmd = '''\n",
    "CREATE TABLE productlines (\n",
    "  productLine varchar(50),\n",
    "  textDescription varchar(4000) DEFAULT NULL,\n",
    "  htmlDescription mediumtext,\n",
    "  image mediumblob,\n",
    "  PRIMARY KEY (productLine)\n",
    ");\n",
    "'''\n",
    "cursor.execute(create_cmd)"
   ]
  },
  {
   "cell_type": "code",
   "execution_count": null,
   "metadata": {},
   "outputs": [],
   "source": [
    "cursor = con.cursor()\n",
    "create_cmd = '''\n",
    "CREATE TABLE products (\n",
    "  productCode varchar(15),\n",
    "  productName varchar(70) NOT NULL,\n",
    "  productLine varchar(50) NOT NULL,\n",
    "  productScale varchar(10) NOT NULL,\n",
    "  productVendor varchar(50) NOT NULL,\n",
    "  productDescription text NOT NULL,\n",
    "  quantityInStock smallint(6) NOT NULL,\n",
    "  buyPrice decimal(10,2) NOT NULL,\n",
    "  MSRP decimal(10,2) NOT NULL,\n",
    "  PRIMARY KEY (productCode),\n",
    "  FOREIGN KEY (productLine) REFERENCES productlines (productLine)\n",
    ");\n",
    "'''\n",
    "cursor.execute(create_cmd)"
   ]
  },
  {
   "cell_type": "code",
   "execution_count": 38,
   "metadata": {},
   "outputs": [
    {
     "data": {
      "text/plain": [
       "<sqlite3.Cursor at 0x105de97c0>"
      ]
     },
     "execution_count": 38,
     "metadata": {},
     "output_type": "execute_result"
    }
   ],
   "source": [
    "cursor = con.cursor()\n",
    "create_cmd = '''\n",
    "CREATE TABLE offices (\n",
    "  officeCode varchar(10),\n",
    "  city varchar(50) NOT NULL,\n",
    "  phone varchar(50) NOT NULL,\n",
    "  addressLine1 varchar(50) NOT NULL,\n",
    "  addressLine2 varchar(50) DEFAULT NULL,\n",
    "  state varchar(50) DEFAULT NULL,\n",
    "  country varchar(50) NOT NULL,\n",
    "  postalCode varchar(15) NOT NULL,\n",
    "  territory varchar(10) NOT NULL,\n",
    "  PRIMARY KEY (officeCode)\n",
    ");\n",
    "'''\n",
    "cursor.execute(create_cmd)"
   ]
  },
  {
   "cell_type": "code",
   "execution_count": 39,
   "metadata": {},
   "outputs": [
    {
     "data": {
      "text/plain": [
       "<sqlite3.Cursor at 0x105e305c0>"
      ]
     },
     "execution_count": 39,
     "metadata": {},
     "output_type": "execute_result"
    }
   ],
   "source": [
    "cursor = con.cursor()\n",
    "create_cmd = '''\n",
    "CREATE TABLE employees (\n",
    "  employeeNumber int,\n",
    "  lastName varchar(50) NOT NULL,\n",
    "  firstName varchar(50) NOT NULL,\n",
    "  extension varchar(10) NOT NULL,\n",
    "  email varchar(100) NOT NULL,\n",
    "  officeCode varchar(10) NOT NULL,\n",
    "  reportsTo int DEFAULT NULL,\n",
    "  jobTitle varchar(50) NOT NULL,\n",
    "  PRIMARY KEY (employeeNumber),\n",
    "  FOREIGN KEY (reportsTo) REFERENCES employees (employeeNumber),\n",
    "  FOREIGN KEY (officeCode) REFERENCES offices (officeCode)\n",
    ");\n",
    "'''\n",
    "cursor.execute(create_cmd)"
   ]
  },
  {
   "cell_type": "code",
   "execution_count": 40,
   "metadata": {},
   "outputs": [
    {
     "data": {
      "text/plain": [
       "<sqlite3.Cursor at 0x105e307c0>"
      ]
     },
     "execution_count": 40,
     "metadata": {},
     "output_type": "execute_result"
    }
   ],
   "source": [
    "cursor = con.cursor()\n",
    "create_cmd = '''\n",
    "CREATE TABLE customers (\n",
    "  customerNumber int,\n",
    "  customerName varchar(50) NOT NULL,\n",
    "  contactLastName varchar(50) NOT NULL,\n",
    "  contactFirstName varchar(50) NOT NULL,\n",
    "  phone varchar(50) NOT NULL,\n",
    "  addressLine1 varchar(50) NOT NULL,\n",
    "  addressLine2 varchar(50) DEFAULT NULL,\n",
    "  city varchar(50) NOT NULL,\n",
    "  state varchar(50) DEFAULT NULL,\n",
    "  postalCode varchar(15) DEFAULT NULL,\n",
    "  country varchar(50) NOT NULL,\n",
    "  salesRepEmployeeNumber int DEFAULT NULL,\n",
    "  creditLimit decimal(10,2) DEFAULT NULL,\n",
    "  PRIMARY KEY (customerNumber),\n",
    "  FOREIGN KEY (salesRepEmployeeNumber) REFERENCES employees (employeeNumber)\n",
    ");\n",
    "'''\n",
    "cursor.execute(create_cmd)"
   ]
  },
  {
   "cell_type": "code",
   "execution_count": 47,
   "metadata": {},
   "outputs": [
    {
     "data": {
      "text/plain": [
       "<sqlite3.Cursor at 0x105e317c0>"
      ]
     },
     "execution_count": 47,
     "metadata": {},
     "output_type": "execute_result"
    }
   ],
   "source": [
    "cursor = con.cursor()\n",
    "create_cmd = '''\n",
    "CREATE TABLE orderdetails (\n",
    "  orderNumber int,\n",
    "  productCode varchar(15) NOT NULL,\n",
    "  quantityOrdered int NOT NULL,\n",
    "  priceEach decimal(10,2) NOT NULL,\n",
    "  orderLineNumber smallint(6) NOT NULL,\n",
    "  PRIMARY KEY (orderNumber,productCode),\n",
    "  FOREIGN KEY (orderNumber) REFERENCES orders (orderNumber),\n",
    "  FOREIGN KEY (productCode) REFERENCES products (productCode)\n",
    ");\n",
    "'''\n",
    "cursor.execute(create_cmd)"
   ]
  },
  {
   "cell_type": "code",
   "execution_count": 44,
   "metadata": {},
   "outputs": [
    {
     "data": {
      "text/plain": [
       "<sqlite3.Cursor at 0x105e30c40>"
      ]
     },
     "execution_count": 44,
     "metadata": {},
     "output_type": "execute_result"
    }
   ],
   "source": [
    "cursor = con.cursor()\n",
    "create_cmd = '''\n",
    "CREATE TABLE payments (\n",
    "  customerNumber int,\n",
    "  checkNumber varchar(50) NOT NULL,\n",
    "  paymentDate date NOT NULL,\n",
    "  amount decimal(10,2) NOT NULL,\n",
    "  PRIMARY KEY (customerNumber,checkNumber),\n",
    "  FOREIGN KEY (customerNumber) REFERENCES customers (customerNumber)\n",
    ");\n",
    "'''\n",
    "cursor.execute(create_cmd)"
   ]
  },
  {
   "cell_type": "code",
   "execution_count": 45,
   "metadata": {},
   "outputs": [
    {
     "data": {
      "text/plain": [
       "<sqlite3.Cursor at 0x105e310c0>"
      ]
     },
     "execution_count": 45,
     "metadata": {},
     "output_type": "execute_result"
    }
   ],
   "source": [
    "cursor = con.cursor()\n",
    "create_cmd = '''\n",
    "CREATE TABLE orders (\n",
    "  orderNumber int,\n",
    "  orderDate date NOT NULL,\n",
    "  requiredDate date NOT NULL,\n",
    "  shippedDate date DEFAULT NULL,\n",
    "  status varchar(15) NOT NULL,\n",
    "  comments text,\n",
    "  customerNumber int NOT NULL,\n",
    "  PRIMARY KEY (orderNumber),\n",
    "  FOREIGN KEY (customerNumber) REFERENCES customers (customerNumber)\n",
    ");\n",
    "'''\n",
    "cursor.execute(create_cmd)"
   ]
  },
  {
   "cell_type": "code",
   "execution_count": null,
   "metadata": {},
   "outputs": [],
   "source": [
    "cursor = con.cursor()\n",
    "cmd = \"\"\"\n",
    "insert  into customers(customerNumber,customerName,contactLastName,contactFirstName,phone,addressLine1,addressLine2,city,state,postalCode,country,salesRepEmployeeNumber,creditLimit) values \n",
    "(103,'Atelier graphique','Schmitt','Carine ','40.32.2555','54, rue Royale',NULL,'Nantes',NULL,'44000','France',1370,'21000.00'),(112,'Signal Gift Stores','King','Jean','7025551838','8489 Strong St.',NULL,'Las Vegas','NV','83030','USA',1166,'71800.00'),(114,'Australian Collectors, Co.','Ferguson','Peter','03 9520 4555','636 St Kilda Road','Level 3','Melbourne','Victoria','3004','Australia',1611,'117300.00'),(119,'La Rochelle Gifts','Labrune','Janine ','40.67.8555','67, rue des Cinquante Otages',NULL,'Nantes',NULL,'44000','France',1370,'118200.00'),(121,'Baane Mini Imports','Bergulfsen','Jonas ','07-98 9555','Erling Skakkes gate 78',NULL,'Stavern',NULL,'4110','Norway',1504,'81700.00'),(124,'Mini Gifts Distributors Ltd.','Nelson','Susan','4155551450','5677 Strong St.',NULL,'San Rafael','CA','97562','USA',1165,'210500.00'),(125,'Havel & Zbyszek Co','Piestrzeniewicz','Zbyszek ','(26) 642-7555','ul. Filtrowa 68',NULL,'Warszawa',NULL,'01-012','Poland',NULL,'0.00'),(128,'Blauer See Auto, Co.','Keitel','Roland','+49 69 66 90 2555','Lyonerstr. 34',NULL,'Frankfurt',NULL,'60528','Germany',1504,'59700.00'),(129,'Mini Wheels Co.','Murphy','Julie','6505555787','5557 North Pendale Street',NULL,'San Francisco','CA','94217','USA',1165,'64600.00'),(131,'Land of Toys Inc.','Lee','Kwai','2125557818','897 Long Airport Avenue',NULL,'NYC','NY','10022','USA',1323,'114900.00'),(141,'Euro+ Shopping Channel','Freyre','Diego ','(91) 555 94 44','C/ Moralzarzal, 86',NULL,'Madrid',NULL,'28034','Spain',1370,'227600.00'),(144,'Volvo Model Replicas, Co','Berglund','Christina ','0921-12 3555','Berguvsvägen  8',NULL,'Luleå',NULL,'S-958 22','Sweden',1504,'53100.00'),(145,'Danish Wholesale Imports','Petersen','Jytte ','31 12 3555','Vinbæltet 34',NULL,'Kobenhavn',NULL,'1734','Denmark',1401,'83400.00'),(146,'Saveley & Henriot, Co.','Saveley','Mary ','78.32.5555','2, rue du Commerce',NULL,'Lyon',NULL,'69004','France',1337,'123900.00'),(148,'Dragon Souveniers, Ltd.','Natividad','Eric','+65 221 7555','Bronz Sok.','Bronz Apt. 3/6 Tesvikiye','Singapore',NULL,'079903','Singapore',1621,'103800.00'),(151,'Muscle Machine Inc','Young','Jeff','2125557413','4092 Furth Circle','Suite 400','NYC','NY','10022','USA',1286,'138500.00'),(157,'Diecast Classics Inc.','Leong','Kelvin','2155551555','7586 Pompton St.',NULL,'Allentown','PA','70267','USA',1216,'100600.00'),(161,'Technics Stores Inc.','Hashimoto','Juri','6505556809','9408 Furth Circle',NULL,'Burlingame','CA','94217','USA',1165,'84600.00'),(166,'Handji Gifts& Co','Victorino','Wendy','+65 224 1555','106 Linden Road Sandown','2nd Floor','Singapore',NULL,'069045','Singapore',1612,'97900.00'),(167,'Herkku Gifts','Oeztan','Veysel','+47 2267 3215','Brehmen St. 121','PR 334 Sentrum','Bergen',NULL,'N 5804','Norway  ',1504,'96800.00'),(168,'American Souvenirs Inc','Franco','Keith','2035557845','149 Spinnaker Dr.','Suite 101','New Haven','CT','97823','USA',1286,'0.00'),(169,'Porto Imports Co.','de Castro','Isabel ','(1) 356-5555','Estrada da saúde n. 58',NULL,'Lisboa',NULL,'1756','Portugal',NULL,'0.00'),(171,'Daedalus Designs Imports','Rancé','Martine ','20.16.1555','184, chaussée de Tournai',NULL,'Lille',NULL,'59000','France',1370,'82900.00');\n",
    "\"\"\"\n",
    "cursor.execute(cmd)"
   ]
  },
  {
   "cell_type": "markdown",
   "metadata": {},
   "source": [
    "## SQL 튜토리얼"
   ]
  },
  {
   "cell_type": "markdown",
   "metadata": {},
   "source": [
    "### SQL SELECT Statement"
   ]
  },
  {
   "cell_type": "code",
   "execution_count": 65,
   "metadata": {},
   "outputs": [
    {
     "name": "stdout",
     "output_type": "stream",
     "text": [
      "('Atelier graphique', 'Nantes')\n",
      "[('Signal Gift Stores', 'Las Vegas'), ('Australian Collectors, Co.', 'Melbourne'), ('La Rochelle Gifts', 'Nantes')]\n"
     ]
    }
   ],
   "source": [
    "cursor = con.cursor()\n",
    "cmd = \"\"\"\n",
    "SELECT customerName, city FROM Customers;\n",
    "\"\"\"\n",
    "cursor.execute(cmd)\n",
    "print(cursor.fetchone())\n",
    "print(cursor.fetchmany(3))"
   ]
  },
  {
   "cell_type": "code",
   "execution_count": 62,
   "metadata": {},
   "outputs": [
    {
     "data": {
      "text/plain": [
       "(103,\n",
       " 'Atelier graphique',\n",
       " 'Schmitt',\n",
       " 'Carine ',\n",
       " '40.32.2555',\n",
       " '54, rue Royale',\n",
       " None,\n",
       " 'Nantes',\n",
       " None,\n",
       " '44000',\n",
       " 'France',\n",
       " 1370,\n",
       " 21000)"
      ]
     },
     "execution_count": 62,
     "metadata": {},
     "output_type": "execute_result"
    }
   ],
   "source": [
    "cursor = con.cursor()\n",
    "cmd = \"\"\"\n",
    "SELECT * FROM Customers;\n",
    "\"\"\"\n",
    "cursor.execute(cmd)\n",
    "cursor.fetchone()"
   ]
  },
  {
   "cell_type": "markdown",
   "metadata": {},
   "source": [
    "### SQL SELECT DISTINCT Statement"
   ]
  },
  {
   "cell_type": "code",
   "execution_count": 66,
   "metadata": {},
   "outputs": [
    {
     "data": {
      "text/plain": [
       "[('France',),\n",
       " ('USA',),\n",
       " ('Australia',),\n",
       " ('Norway',),\n",
       " ('Poland',),\n",
       " ('Germany',),\n",
       " ('Spain',),\n",
       " ('Sweden',),\n",
       " ('Denmark',),\n",
       " ('Singapore',),\n",
       " ('Norway  ',),\n",
       " ('Portugal',)]"
      ]
     },
     "execution_count": 66,
     "metadata": {},
     "output_type": "execute_result"
    }
   ],
   "source": [
    "# 다른값만 반환\n",
    "cursor = con.cursor()\n",
    "cmd = \"\"\"\n",
    "SELECT DISTINCT country FROM Customers;\n",
    "\"\"\"\n",
    "cursor.execute(cmd)\n",
    "cursor.fetchall()"
   ]
  },
  {
   "cell_type": "markdown",
   "metadata": {},
   "source": [
    "### SELECT Example Without DISTINCT"
   ]
  },
  {
   "cell_type": "code",
   "execution_count": 67,
   "metadata": {},
   "outputs": [
    {
     "data": {
      "text/plain": [
       "[('France',),\n",
       " ('USA',),\n",
       " ('Australia',),\n",
       " ('France',),\n",
       " ('Norway',),\n",
       " ('USA',),\n",
       " ('Poland',),\n",
       " ('Germany',),\n",
       " ('USA',),\n",
       " ('USA',),\n",
       " ('Spain',),\n",
       " ('Sweden',),\n",
       " ('Denmark',),\n",
       " ('France',),\n",
       " ('Singapore',),\n",
       " ('USA',),\n",
       " ('USA',),\n",
       " ('USA',),\n",
       " ('Singapore',),\n",
       " ('Norway  ',),\n",
       " ('USA',),\n",
       " ('Portugal',),\n",
       " ('France',)]"
      ]
     },
     "execution_count": 67,
     "metadata": {},
     "output_type": "execute_result"
    }
   ],
   "source": [
    "cursor = con.cursor()\n",
    "cmd = \"\"\"\n",
    "SELECT country FROM Customers;\n",
    "\"\"\"\n",
    "cursor.execute(cmd)\n",
    "cursor.fetchall()"
   ]
  },
  {
   "cell_type": "markdown",
   "metadata": {},
   "source": [
    "### Count Distinct"
   ]
  },
  {
   "cell_type": "code",
   "execution_count": 68,
   "metadata": {},
   "outputs": [
    {
     "data": {
      "text/plain": [
       "[(12,)]"
      ]
     },
     "execution_count": 68,
     "metadata": {},
     "output_type": "execute_result"
    }
   ],
   "source": [
    "cursor = con.cursor()\n",
    "cmd = \"\"\"\n",
    "SELECT COUNT(DISTINCT country) FROM Customers;\n",
    "\"\"\"\n",
    "cursor.execute(cmd)\n",
    "cursor.fetchall()"
   ]
  },
  {
   "cell_type": "markdown",
   "metadata": {},
   "source": [
    "### SQL WHERE Clause"
   ]
  },
  {
   "cell_type": "code",
   "execution_count": 72,
   "metadata": {},
   "outputs": [
    {
     "data": {
      "text/plain": [
       "[(103,\n",
       "  'Atelier graphique',\n",
       "  'Schmitt',\n",
       "  'Carine ',\n",
       "  '40.32.2555',\n",
       "  '54, rue Royale',\n",
       "  None,\n",
       "  'Nantes',\n",
       "  None,\n",
       "  '44000',\n",
       "  'France',\n",
       "  1370,\n",
       "  21000),\n",
       " (119,\n",
       "  'La Rochelle Gifts',\n",
       "  'Labrune',\n",
       "  'Janine ',\n",
       "  '40.67.8555',\n",
       "  '67, rue des Cinquante Otages',\n",
       "  None,\n",
       "  'Nantes',\n",
       "  None,\n",
       "  '44000',\n",
       "  'France',\n",
       "  1370,\n",
       "  118200),\n",
       " (146,\n",
       "  'Saveley & Henriot, Co.',\n",
       "  'Saveley',\n",
       "  'Mary ',\n",
       "  '78.32.5555',\n",
       "  '2, rue du Commerce',\n",
       "  None,\n",
       "  'Lyon',\n",
       "  None,\n",
       "  '69004',\n",
       "  'France',\n",
       "  1337,\n",
       "  123900),\n",
       " (171,\n",
       "  'Daedalus Designs Imports',\n",
       "  'Rancé',\n",
       "  'Martine ',\n",
       "  '20.16.1555',\n",
       "  '184, chaussée de Tournai',\n",
       "  None,\n",
       "  'Lille',\n",
       "  None,\n",
       "  '59000',\n",
       "  'France',\n",
       "  1370,\n",
       "  82900)]"
      ]
     },
     "execution_count": 72,
     "metadata": {},
     "output_type": "execute_result"
    }
   ],
   "source": [
    "cursor = con.cursor()\n",
    "cmd = \"\"\"\n",
    "SELECT * FROM Customers\n",
    "WHERE country='France';\n",
    "\"\"\"\n",
    "cursor.execute(cmd)\n",
    "cursor.fetchall()"
   ]
  },
  {
   "cell_type": "markdown",
   "metadata": {},
   "source": [
    "### Operators in The WHERE Clause"
   ]
  },
  {
   "cell_type": "code",
   "execution_count": 74,
   "metadata": {},
   "outputs": [
    {
     "data": {
      "text/plain": [
       "[(114,\n",
       "  'Australian Collectors, Co.',\n",
       "  'Ferguson',\n",
       "  'Peter',\n",
       "  '03 9520 4555',\n",
       "  '636 St Kilda Road',\n",
       "  'Level 3',\n",
       "  'Melbourne',\n",
       "  'Victoria',\n",
       "  '3004',\n",
       "  'Australia',\n",
       "  1611,\n",
       "  117300),\n",
       " (119,\n",
       "  'La Rochelle Gifts',\n",
       "  'Labrune',\n",
       "  'Janine ',\n",
       "  '40.67.8555',\n",
       "  '67, rue des Cinquante Otages',\n",
       "  None,\n",
       "  'Nantes',\n",
       "  None,\n",
       "  '44000',\n",
       "  'France',\n",
       "  1370,\n",
       "  118200),\n",
       " (124,\n",
       "  'Mini Gifts Distributors Ltd.',\n",
       "  'Nelson',\n",
       "  'Susan',\n",
       "  '4155551450',\n",
       "  '5677 Strong St.',\n",
       "  None,\n",
       "  'San Rafael',\n",
       "  'CA',\n",
       "  '97562',\n",
       "  'USA',\n",
       "  1165,\n",
       "  210500),\n",
       " (131,\n",
       "  'Land of Toys Inc.',\n",
       "  'Lee',\n",
       "  'Kwai',\n",
       "  '2125557818',\n",
       "  '897 Long Airport Avenue',\n",
       "  None,\n",
       "  'NYC',\n",
       "  'NY',\n",
       "  '10022',\n",
       "  'USA',\n",
       "  1323,\n",
       "  114900),\n",
       " (141,\n",
       "  'Euro+ Shopping Channel',\n",
       "  'Freyre',\n",
       "  'Diego ',\n",
       "  '(91) 555 94 44',\n",
       "  'C/ Moralzarzal, 86',\n",
       "  None,\n",
       "  'Madrid',\n",
       "  None,\n",
       "  '28034',\n",
       "  'Spain',\n",
       "  1370,\n",
       "  227600),\n",
       " (146,\n",
       "  'Saveley & Henriot, Co.',\n",
       "  'Saveley',\n",
       "  'Mary ',\n",
       "  '78.32.5555',\n",
       "  '2, rue du Commerce',\n",
       "  None,\n",
       "  'Lyon',\n",
       "  None,\n",
       "  '69004',\n",
       "  'France',\n",
       "  1337,\n",
       "  123900),\n",
       " (148,\n",
       "  'Dragon Souveniers, Ltd.',\n",
       "  'Natividad',\n",
       "  'Eric',\n",
       "  '+65 221 7555',\n",
       "  'Bronz Sok.',\n",
       "  'Bronz Apt. 3/6 Tesvikiye',\n",
       "  'Singapore',\n",
       "  None,\n",
       "  '079903',\n",
       "  'Singapore',\n",
       "  1621,\n",
       "  103800),\n",
       " (151,\n",
       "  'Muscle Machine Inc',\n",
       "  'Young',\n",
       "  'Jeff',\n",
       "  '2125557413',\n",
       "  '4092 Furth Circle',\n",
       "  'Suite 400',\n",
       "  'NYC',\n",
       "  'NY',\n",
       "  '10022',\n",
       "  'USA',\n",
       "  1286,\n",
       "  138500),\n",
       " (157,\n",
       "  'Diecast Classics Inc.',\n",
       "  'Leong',\n",
       "  'Kelvin',\n",
       "  '2155551555',\n",
       "  '7586 Pompton St.',\n",
       "  None,\n",
       "  'Allentown',\n",
       "  'PA',\n",
       "  '70267',\n",
       "  'USA',\n",
       "  1216,\n",
       "  100600)]"
      ]
     },
     "execution_count": 74,
     "metadata": {},
     "output_type": "execute_result"
    }
   ],
   "source": [
    "cursor = con.cursor()\n",
    "cmd = \"\"\"\n",
    "SELECT * FROM Customers\n",
    "WHERE creditLimit > 100000;\n",
    "\"\"\"\n",
    "cursor.execute(cmd)\n",
    "cursor.fetchall()"
   ]
  },
  {
   "cell_type": "markdown",
   "metadata": {},
   "source": [
    "### SQL ORDER BY Keyword"
   ]
  },
  {
   "cell_type": "code",
   "execution_count": 80,
   "metadata": {},
   "outputs": [
    {
     "data": {
      "text/plain": [
       "[(1621,),\n",
       " (1612,),\n",
       " (1611,),\n",
       " (1504,),\n",
       " (1504,),\n",
       " (1504,),\n",
       " (1504,),\n",
       " (1401,),\n",
       " (1370,),\n",
       " (1370,),\n",
       " (1370,),\n",
       " (1370,),\n",
       " (1337,),\n",
       " (1323,),\n",
       " (1286,),\n",
       " (1286,),\n",
       " (1216,),\n",
       " (1166,),\n",
       " (1165,),\n",
       " (1165,),\n",
       " (1165,),\n",
       " (None,),\n",
       " (None,)]"
      ]
     },
     "execution_count": 80,
     "metadata": {},
     "output_type": "execute_result"
    }
   ],
   "source": [
    "cursor = con.cursor()\n",
    "cmd = \"\"\"\n",
    "SELECT salesRepEmployeeNumber FROM Customers\n",
    "ORDER BY salesRepEmployeeNumber DESC;\n",
    "\"\"\"\n",
    "cursor.execute(cmd)\n",
    "cursor.fetchall()"
   ]
  },
  {
   "cell_type": "code",
   "execution_count": 79,
   "metadata": {},
   "outputs": [
    {
     "data": {
      "text/plain": [
       "[('American Souvenirs Inc',),\n",
       " ('Atelier graphique',),\n",
       " ('Australian Collectors, Co.',),\n",
       " ('Baane Mini Imports',),\n",
       " ('Blauer See Auto, Co.',),\n",
       " ('Daedalus Designs Imports',),\n",
       " ('Danish Wholesale Imports',),\n",
       " ('Diecast Classics Inc.',),\n",
       " ('Dragon Souveniers, Ltd.',),\n",
       " ('Euro+ Shopping Channel',),\n",
       " ('Handji Gifts& Co',),\n",
       " ('Havel & Zbyszek Co',),\n",
       " ('Herkku Gifts',),\n",
       " ('La Rochelle Gifts',),\n",
       " ('Land of Toys Inc.',),\n",
       " ('Mini Gifts Distributors Ltd.',),\n",
       " ('Mini Wheels Co.',),\n",
       " ('Muscle Machine Inc',),\n",
       " ('Porto Imports Co.',),\n",
       " ('Saveley & Henriot, Co.',),\n",
       " ('Signal Gift Stores',),\n",
       " ('Technics Stores Inc.',),\n",
       " ('Volvo Model Replicas, Co',)]"
      ]
     },
     "execution_count": 79,
     "metadata": {},
     "output_type": "execute_result"
    }
   ],
   "source": [
    "cursor = con.cursor()\n",
    "cmd = \"\"\"\n",
    "SELECT customerName FROM Customers\n",
    "ORDER BY customerName;\n",
    "\"\"\"\n",
    "cursor.execute(cmd)\n",
    "cursor.fetchall()"
   ]
  },
  {
   "cell_type": "code",
   "execution_count": 81,
   "metadata": {},
   "outputs": [
    {
     "data": {
      "text/plain": [
       "[('Australia', 'Australian Collectors, Co.'),\n",
       " ('Denmark', 'Danish Wholesale Imports'),\n",
       " ('France', 'Saveley & Henriot, Co.'),\n",
       " ('France', 'La Rochelle Gifts'),\n",
       " ('France', 'Daedalus Designs Imports'),\n",
       " ('France', 'Atelier graphique'),\n",
       " ('Germany', 'Blauer See Auto, Co.'),\n",
       " ('Norway', 'Baane Mini Imports'),\n",
       " ('Norway  ', 'Herkku Gifts'),\n",
       " ('Poland', 'Havel & Zbyszek Co'),\n",
       " ('Portugal', 'Porto Imports Co.'),\n",
       " ('Singapore', 'Handji Gifts& Co'),\n",
       " ('Singapore', 'Dragon Souveniers, Ltd.'),\n",
       " ('Spain', 'Euro+ Shopping Channel'),\n",
       " ('Sweden', 'Volvo Model Replicas, Co'),\n",
       " ('USA', 'Technics Stores Inc.'),\n",
       " ('USA', 'Signal Gift Stores'),\n",
       " ('USA', 'Muscle Machine Inc'),\n",
       " ('USA', 'Mini Wheels Co.'),\n",
       " ('USA', 'Mini Gifts Distributors Ltd.'),\n",
       " ('USA', 'Land of Toys Inc.'),\n",
       " ('USA', 'Diecast Classics Inc.'),\n",
       " ('USA', 'American Souvenirs Inc')]"
      ]
     },
     "execution_count": 81,
     "metadata": {},
     "output_type": "execute_result"
    }
   ],
   "source": [
    "cursor = con.cursor()\n",
    "cmd = \"\"\"\n",
    "SELECT country, customerName FROM Customers\n",
    "ORDER BY country ASC, customerName DESC;\n",
    "\"\"\"\n",
    "cursor.execute(cmd)\n",
    "cursor.fetchall()"
   ]
  },
  {
   "cell_type": "markdown",
   "metadata": {},
   "source": [
    "### SQL AND Operator"
   ]
  },
  {
   "cell_type": "code",
   "execution_count": 83,
   "metadata": {},
   "outputs": [
    {
     "data": {
      "text/plain": [
       "[('Mini Gifts Distributors Ltd.', 'USA'),\n",
       " ('Mini Wheels Co.', 'USA'),\n",
       " ('Muscle Machine Inc', 'USA')]"
      ]
     },
     "execution_count": 83,
     "metadata": {},
     "output_type": "execute_result"
    }
   ],
   "source": [
    "cursor = con.cursor()\n",
    "cmd = \"\"\"\n",
    "SELECT customerName, country\n",
    "FROM Customers\n",
    "WHERE country = 'USA' AND customerName LIKE 'M%'\n",
    "\"\"\"\n",
    "cursor.execute(cmd)\n",
    "cursor.fetchall()"
   ]
  },
  {
   "cell_type": "markdown",
   "metadata": {},
   "source": [
    "### Combining AND and OR"
   ]
  },
  {
   "cell_type": "code",
   "execution_count": 86,
   "metadata": {},
   "outputs": [
    {
     "data": {
      "text/plain": [
       "[('Mini Gifts Distributors Ltd.', 'USA'),\n",
       " ('Mini Wheels Co.', 'USA'),\n",
       " ('Muscle Machine Inc', 'USA'),\n",
       " ('American Souvenirs Inc', 'USA')]"
      ]
     },
     "execution_count": 86,
     "metadata": {},
     "output_type": "execute_result"
    }
   ],
   "source": [
    "cursor = con.cursor()\n",
    "cmd = \"\"\"\n",
    "SELECT customerName, country\n",
    "FROM Customers\n",
    "WHERE country = 'USA' \n",
    "AND (customerName LIKE 'M%' OR customerName LIKE 'A%');\n",
    "\"\"\"\n",
    "cursor.execute(cmd)\n",
    "cursor.fetchall()"
   ]
  },
  {
   "cell_type": "code",
   "execution_count": 87,
   "metadata": {},
   "outputs": [
    {
     "data": {
      "text/plain": [
       "[('Atelier graphique', 'France'),\n",
       " ('Australian Collectors, Co.', 'Australia'),\n",
       " ('Mini Gifts Distributors Ltd.', 'USA'),\n",
       " ('Mini Wheels Co.', 'USA'),\n",
       " ('Muscle Machine Inc', 'USA'),\n",
       " ('American Souvenirs Inc', 'USA')]"
      ]
     },
     "execution_count": 87,
     "metadata": {},
     "output_type": "execute_result"
    }
   ],
   "source": [
    "cursor = con.cursor()\n",
    "cmd = \"\"\"\n",
    "SELECT customerName, country\n",
    "FROM Customers\n",
    "WHERE country = 'USA' \n",
    "AND customerName LIKE 'M%' \n",
    "OR customerName LIKE 'A%';\n",
    "\"\"\"\n",
    "cursor.execute(cmd)\n",
    "cursor.fetchall()"
   ]
  },
  {
   "cell_type": "markdown",
   "metadata": {},
   "source": [
    "### SQL OR Operator"
   ]
  },
  {
   "cell_type": "code",
   "execution_count": 88,
   "metadata": {},
   "outputs": [
    {
     "data": {
      "text/plain": [
       "[('Atelier graphique', 'France'),\n",
       " ('Signal Gift Stores', 'USA'),\n",
       " ('La Rochelle Gifts', 'France'),\n",
       " ('Mini Gifts Distributors Ltd.', 'USA'),\n",
       " ('Mini Wheels Co.', 'USA'),\n",
       " ('Land of Toys Inc.', 'USA'),\n",
       " ('Saveley & Henriot, Co.', 'France'),\n",
       " ('Muscle Machine Inc', 'USA'),\n",
       " ('Diecast Classics Inc.', 'USA'),\n",
       " ('Technics Stores Inc.', 'USA'),\n",
       " ('American Souvenirs Inc', 'USA'),\n",
       " ('Daedalus Designs Imports', 'France')]"
      ]
     },
     "execution_count": 88,
     "metadata": {},
     "output_type": "execute_result"
    }
   ],
   "source": [
    "cursor = con.cursor()\n",
    "cmd = \"\"\"\n",
    "SELECT customerName, country\n",
    "FROM Customers\n",
    "WHERE country = 'USA' \n",
    "OR country = 'France'\n",
    "\"\"\"\n",
    "cursor.execute(cmd)\n",
    "cursor.fetchall()"
   ]
  },
  {
   "cell_type": "markdown",
   "metadata": {},
   "source": [
    "### SQL Not"
   ]
  },
  {
   "cell_type": "code",
   "execution_count": 89,
   "metadata": {},
   "outputs": [
    {
     "data": {
      "text/plain": [
       "[('Atelier graphique', 'France'),\n",
       " ('Australian Collectors, Co.', 'Australia'),\n",
       " ('La Rochelle Gifts', 'France'),\n",
       " ('Baane Mini Imports', 'Norway'),\n",
       " ('Havel & Zbyszek Co', 'Poland'),\n",
       " ('Blauer See Auto, Co.', 'Germany'),\n",
       " ('Euro+ Shopping Channel', 'Spain'),\n",
       " ('Volvo Model Replicas, Co', 'Sweden'),\n",
       " ('Danish Wholesale Imports', 'Denmark'),\n",
       " ('Saveley & Henriot, Co.', 'France'),\n",
       " ('Dragon Souveniers, Ltd.', 'Singapore'),\n",
       " ('Handji Gifts& Co', 'Singapore'),\n",
       " ('Herkku Gifts', 'Norway  '),\n",
       " ('Porto Imports Co.', 'Portugal'),\n",
       " ('Daedalus Designs Imports', 'France')]"
      ]
     },
     "execution_count": 89,
     "metadata": {},
     "output_type": "execute_result"
    }
   ],
   "source": [
    "cursor = con.cursor()\n",
    "cmd = \"\"\"\n",
    "SELECT customerName, country\n",
    "FROM Customers\n",
    "WHERE NOT country = 'USA';\n",
    "\"\"\"\n",
    "cursor.execute(cmd)\n",
    "cursor.fetchall()"
   ]
  },
  {
   "cell_type": "code",
   "execution_count": 93,
   "metadata": {},
   "outputs": [
    {
     "data": {
      "text/plain": [
       "[('Atelier graphique', 'France'),\n",
       " ('Signal Gift Stores', 'USA'),\n",
       " ('Australian Collectors, Co.', 'Australia'),\n",
       " ('La Rochelle Gifts', 'France'),\n",
       " ('Baane Mini Imports', 'Norway'),\n",
       " ('Havel & Zbyszek Co', 'Poland'),\n",
       " ('Blauer See Auto, Co.', 'Germany'),\n",
       " ('Land of Toys Inc.', 'USA'),\n",
       " ('Euro+ Shopping Channel', 'Spain'),\n",
       " ('Volvo Model Replicas, Co', 'Sweden'),\n",
       " ('Danish Wholesale Imports', 'Denmark'),\n",
       " ('Saveley & Henriot, Co.', 'France'),\n",
       " ('Dragon Souveniers, Ltd.', 'Singapore'),\n",
       " ('Diecast Classics Inc.', 'USA'),\n",
       " ('Technics Stores Inc.', 'USA'),\n",
       " ('Handji Gifts& Co', 'Singapore'),\n",
       " ('Herkku Gifts', 'Norway  '),\n",
       " ('American Souvenirs Inc', 'USA'),\n",
       " ('Porto Imports Co.', 'Portugal'),\n",
       " ('Daedalus Designs Imports', 'France')]"
      ]
     },
     "execution_count": 93,
     "metadata": {},
     "output_type": "execute_result"
    }
   ],
   "source": [
    "cursor = con.cursor()\n",
    "cmd = \"\"\"\n",
    "SELECT customerName, country\n",
    "FROM Customers\n",
    "WHERE customerName NOT LIKE 'M%';\n",
    "\"\"\"\n",
    "cursor.execute(cmd)\n",
    "cursor.fetchall()"
   ]
  },
  {
   "cell_type": "code",
   "execution_count": 95,
   "metadata": {},
   "outputs": [
    {
     "data": {
      "text/plain": [
       "[(103, 'France'),\n",
       " (112, 'USA'),\n",
       " (114, 'Australia'),\n",
       " (119, 'France'),\n",
       " (161, 'USA'),\n",
       " (166, 'Singapore'),\n",
       " (167, 'Norway  '),\n",
       " (168, 'USA'),\n",
       " (169, 'Portugal'),\n",
       " (171, 'France')]"
      ]
     },
     "execution_count": 95,
     "metadata": {},
     "output_type": "execute_result"
    }
   ],
   "source": [
    "cursor = con.cursor()\n",
    "cmd = \"\"\"\n",
    "SELECT customerNumber, country\n",
    "FROM Customers\n",
    "WHERE customerNumber NOT BETWEEN 120 AND 160;\n",
    "\"\"\"\n",
    "cursor.execute(cmd)\n",
    "cursor.fetchall()"
   ]
  },
  {
   "cell_type": "code",
   "execution_count": 96,
   "metadata": {},
   "outputs": [
    {
     "data": {
      "text/plain": [
       "[('Australia', 'Australian Collectors, Co.'),\n",
       " ('Norway', 'Baane Mini Imports'),\n",
       " ('Poland', 'Havel & Zbyszek Co'),\n",
       " ('Germany', 'Blauer See Auto, Co.'),\n",
       " ('Spain', 'Euro+ Shopping Channel'),\n",
       " ('Sweden', 'Volvo Model Replicas, Co'),\n",
       " ('Denmark', 'Danish Wholesale Imports'),\n",
       " ('Singapore', 'Dragon Souveniers, Ltd.'),\n",
       " ('Singapore', 'Handji Gifts& Co'),\n",
       " ('Norway  ', 'Herkku Gifts'),\n",
       " ('Portugal', 'Porto Imports Co.')]"
      ]
     },
     "execution_count": 96,
     "metadata": {},
     "output_type": "execute_result"
    }
   ],
   "source": [
    "cursor = con.cursor()\n",
    "cmd = \"\"\"\n",
    "SELECT country, customerName\n",
    "FROM Customers\n",
    "WHERE country NOT IN ('France', 'USA');\n",
    "\"\"\"\n",
    "cursor.execute(cmd)\n",
    "cursor.fetchall()"
   ]
  },
  {
   "cell_type": "code",
   "execution_count": 97,
   "metadata": {},
   "outputs": [
    {
     "data": {
      "text/plain": [
       "[(161, 'USA'),\n",
       " (166, 'Singapore'),\n",
       " (167, 'Norway  '),\n",
       " (168, 'USA'),\n",
       " (169, 'Portugal'),\n",
       " (171, 'France')]"
      ]
     },
     "execution_count": 97,
     "metadata": {},
     "output_type": "execute_result"
    }
   ],
   "source": [
    "cursor = con.cursor()\n",
    "cmd = \"\"\"\n",
    "SELECT customerNumber, country\n",
    "FROM Customers\n",
    "WHERE customerNumber > 160;\n",
    "\"\"\"\n",
    "cursor.execute(cmd)\n",
    "cursor.fetchall()"
   ]
  },
  {
   "cell_type": "markdown",
   "metadata": {},
   "source": [
    "### SQL Insert Into\n",
    "데모 데이터 생성 시 구현"
   ]
  },
  {
   "cell_type": "markdown",
   "metadata": {},
   "source": [
    "### SQL Null Values"
   ]
  },
  {
   "cell_type": "code",
   "execution_count": 98,
   "metadata": {},
   "outputs": [
    {
     "data": {
      "text/plain": [
       "[(103, 'France', None),\n",
       " (119, 'France', None),\n",
       " (121, 'Norway', None),\n",
       " (125, 'Poland', None),\n",
       " (128, 'Germany', None),\n",
       " (141, 'Spain', None),\n",
       " (144, 'Sweden', None),\n",
       " (145, 'Denmark', None),\n",
       " (146, 'France', None),\n",
       " (148, 'Singapore', None),\n",
       " (166, 'Singapore', None),\n",
       " (167, 'Norway  ', None),\n",
       " (169, 'Portugal', None),\n",
       " (171, 'France', None)]"
      ]
     },
     "execution_count": 98,
     "metadata": {},
     "output_type": "execute_result"
    }
   ],
   "source": [
    "cursor = con.cursor()\n",
    "cmd = \"\"\"\n",
    "SELECT customerNumber, country, state\n",
    "FROM Customers\n",
    "WHERE state IS NULL;\n",
    "\"\"\"\n",
    "cursor.execute(cmd)\n",
    "cursor.fetchall()"
   ]
  },
  {
   "cell_type": "code",
   "execution_count": 99,
   "metadata": {},
   "outputs": [
    {
     "data": {
      "text/plain": [
       "[(112, 'USA', 'NV'),\n",
       " (114, 'Australia', 'Victoria'),\n",
       " (124, 'USA', 'CA'),\n",
       " (129, 'USA', 'CA'),\n",
       " (131, 'USA', 'NY'),\n",
       " (151, 'USA', 'NY'),\n",
       " (157, 'USA', 'PA'),\n",
       " (161, 'USA', 'CA'),\n",
       " (168, 'USA', 'CT')]"
      ]
     },
     "execution_count": 99,
     "metadata": {},
     "output_type": "execute_result"
    }
   ],
   "source": [
    "cursor = con.cursor()\n",
    "cmd = \"\"\"\n",
    "SELECT customerNumber, country, state\n",
    "FROM Customers\n",
    "WHERE state IS NOT NULL;\n",
    "\"\"\"\n",
    "cursor.execute(cmd)\n",
    "cursor.fetchall()"
   ]
  },
  {
   "cell_type": "markdown",
   "metadata": {},
   "source": [
    "### SQL Update"
   ]
  },
  {
   "cell_type": "code",
   "execution_count": 101,
   "metadata": {},
   "outputs": [],
   "source": [
    "cursor = con.cursor()\n",
    "cmd = \"\"\"\n",
    "UPDATE Customers\n",
    "SET customerName = 'Sumin', contactLastName = 'Joo'\n",
    "WHERE customerNumber = 103;\n",
    "\"\"\"\n",
    "cursor.execute(cmd)\n",
    "con.commit()"
   ]
  },
  {
   "cell_type": "code",
   "execution_count": 109,
   "metadata": {},
   "outputs": [
    {
     "data": {
      "text/plain": [
       "[(103, 'Sumin', 'Joo')]"
      ]
     },
     "execution_count": 109,
     "metadata": {},
     "output_type": "execute_result"
    }
   ],
   "source": [
    "cursor = con.cursor()\n",
    "cmd = \"\"\"\n",
    "SELECT customerNumber, customerName, contactLastName\n",
    "FROM Customers\n",
    "WHERE customerNumber = 103;\n",
    "\"\"\"\n",
    "cursor.execute(cmd)\n",
    "cursor.fetchall()"
   ]
  },
  {
   "cell_type": "markdown",
   "metadata": {},
   "source": [
    "### SQL Delete"
   ]
  },
  {
   "cell_type": "code",
   "execution_count": 105,
   "metadata": {},
   "outputs": [],
   "source": [
    "cursor = con.cursor()\n",
    "cmd = \"\"\"\n",
    "DELETE FROM customers\n",
    "WHERE customerNumber = 112;\n",
    "\"\"\"\n",
    "cursor.execute(cmd)\n",
    "con.commit()"
   ]
  },
  {
   "cell_type": "code",
   "execution_count": null,
   "metadata": {},
   "outputs": [],
   "source": [
    "con.close()\n",
    "con = sql.connect('./mission2.db')\n",
    "cursor = con.cursor()\n",
    "cmd = \"\"\"\n",
    "DROP TABLE products;\n",
    "\"\"\"\n",
    "cursor.execute(cmd)"
   ]
  },
  {
   "cell_type": "markdown",
   "metadata": {},
   "source": [
    "### SQL Select Top"
   ]
  },
  {
   "cell_type": "code",
   "execution_count": 118,
   "metadata": {},
   "outputs": [
    {
     "data": {
      "text/plain": [
       "[(103, 'Sumin', 'Joo'),\n",
       " (114, 'Australian Collectors, Co.', 'Ferguson'),\n",
       " (119, 'La Rochelle Gifts', 'Labrune')]"
      ]
     },
     "execution_count": 118,
     "metadata": {},
     "output_type": "execute_result"
    }
   ],
   "source": [
    "cursor = con.cursor()\n",
    "cmd = \"\"\"\n",
    "SELECT customerNumber, customerName, contactLastName\n",
    "FROM Customers\n",
    "LIMIT 3;\n",
    "\"\"\"\n",
    "cursor.execute(cmd)\n",
    "cursor.fetchall()"
   ]
  },
  {
   "cell_type": "code",
   "execution_count": 126,
   "metadata": {},
   "outputs": [
    {
     "data": {
      "text/plain": [
       "[(124, 'Mini Gifts Distributors Ltd.', 'USA'),\n",
       " (129, 'Mini Wheels Co.', 'USA'),\n",
       " (131, 'Land of Toys Inc.', 'USA')]"
      ]
     },
     "execution_count": 126,
     "metadata": {},
     "output_type": "execute_result"
    }
   ],
   "source": [
    "cursor = con.cursor()\n",
    "cmd = \"\"\"\n",
    "SELECT customerNumber, customerName, country\n",
    "FROM Customers\n",
    "WHERE country = 'USA'\n",
    "LIMIT 3;\n",
    "\"\"\"\n",
    "cursor.execute(cmd)\n",
    "cursor.fetchall()"
   ]
  },
  {
   "cell_type": "code",
   "execution_count": 130,
   "metadata": {},
   "outputs": [
    {
     "data": {
      "text/plain": [
       "[(161, 'Technics Stores Inc.', 'USA'),\n",
       " (151, 'Muscle Machine Inc', 'USA'),\n",
       " (129, 'Mini Wheels Co.', 'USA')]"
      ]
     },
     "execution_count": 130,
     "metadata": {},
     "output_type": "execute_result"
    }
   ],
   "source": [
    "cursor = con.cursor()\n",
    "cmd = \"\"\"\n",
    "SELECT customerNumber, customerName, country\n",
    "FROM Customers\n",
    "WHERE country = 'USA'\n",
    "ORDER BY customerName DESC\n",
    "LIMIT 3;\n",
    "\"\"\"\n",
    "cursor.execute(cmd)\n",
    "cursor.fetchall()"
   ]
  },
  {
   "cell_type": "markdown",
   "metadata": {},
   "source": [
    "### SQL Aggregate Functions"
   ]
  },
  {
   "cell_type": "markdown",
   "metadata": {},
   "source": [
    "### SQL Min and Max"
   ]
  },
  {
   "cell_type": "code",
   "execution_count": 131,
   "metadata": {},
   "outputs": [
    {
     "data": {
      "text/plain": [
       "[(227600,)]"
      ]
     },
     "execution_count": 131,
     "metadata": {},
     "output_type": "execute_result"
    }
   ],
   "source": [
    "cursor = con.cursor()\n",
    "cmd = \"\"\"\n",
    "SELECT MAX(creditLimit)\n",
    "FROM Customers;\n",
    "\"\"\"\n",
    "cursor.execute(cmd)\n",
    "cursor.fetchall()"
   ]
  },
  {
   "cell_type": "code",
   "execution_count": 140,
   "metadata": {},
   "outputs": [
    {
     "data": {
      "text/plain": [
       "[('Australia', 117300, 114),\n",
       " ('Denmark', 83400, 145),\n",
       " ('France', 123900, 146),\n",
       " ('Germany', 59700, 128),\n",
       " ('Norway', 81700, 121),\n",
       " ('Norway  ', 96800, 167),\n",
       " ('Poland', 0, 125),\n",
       " ('Portugal', 0, 169),\n",
       " ('Singapore', 103800, 148),\n",
       " ('Spain', 227600, 141),\n",
       " ('Sweden', 53100, 144),\n",
       " ('USA', 210500, 124)]"
      ]
     },
     "execution_count": 140,
     "metadata": {},
     "output_type": "execute_result"
    }
   ],
   "source": [
    "cursor = con.cursor()\n",
    "cmd = \"\"\"\n",
    "SELECT country, MAX(creditLimit) AS maxLimit, customerNumber\n",
    "FROM Customers\n",
    "GROUP BY country;\n",
    "\"\"\"\n",
    "cursor.execute(cmd)\n",
    "cursor.fetchall()"
   ]
  },
  {
   "cell_type": "markdown",
   "metadata": {},
   "source": [
    "### SQL Count"
   ]
  },
  {
   "cell_type": "code",
   "execution_count": 147,
   "metadata": {},
   "outputs": [
    {
     "data": {
      "text/plain": [
       "[(22,)]"
      ]
     },
     "execution_count": 147,
     "metadata": {},
     "output_type": "execute_result"
    }
   ],
   "source": [
    "cursor = con.cursor()\n",
    "cmd = \"\"\"\n",
    "SELECT count(country)\n",
    "FROM Customers;\n",
    "\"\"\"\n",
    "cursor.execute(cmd)\n",
    "cursor.fetchall()"
   ]
  },
  {
   "cell_type": "code",
   "execution_count": 146,
   "metadata": {},
   "outputs": [
    {
     "data": {
      "text/plain": [
       "[(12,)]"
      ]
     },
     "execution_count": 146,
     "metadata": {},
     "output_type": "execute_result"
    }
   ],
   "source": [
    "cursor = con.cursor()\n",
    "cmd = \"\"\"\n",
    "SELECT count(DISTINCT country)\n",
    "FROM Customers;\n",
    "\"\"\"\n",
    "cursor.execute(cmd)\n",
    "cursor.fetchall()"
   ]
  },
  {
   "cell_type": "code",
   "execution_count": 152,
   "metadata": {},
   "outputs": [
    {
     "data": {
      "text/plain": [
       "[('Australia', 1),\n",
       " ('Denmark', 1),\n",
       " ('France', 4),\n",
       " ('Germany', 1),\n",
       " ('Norway', 1),\n",
       " ('Norway  ', 1),\n",
       " ('Poland', 1),\n",
       " ('Portugal', 1),\n",
       " ('Singapore', 2),\n",
       " ('Spain', 1),\n",
       " ('Sweden', 1),\n",
       " ('USA', 7)]"
      ]
     },
     "execution_count": 152,
     "metadata": {},
     "output_type": "execute_result"
    }
   ],
   "source": [
    "cursor = con.cursor()\n",
    "cmd = \"\"\"\n",
    "SELECT country, COUNT(*) AS [Number of records]\n",
    "FROM Customers\n",
    "GROUP BY country\n",
    "\"\"\"\n",
    "cursor.execute(cmd)\n",
    "cursor.fetchall()"
   ]
  },
  {
   "cell_type": "markdown",
   "metadata": {},
   "source": [
    "### SQL Sum"
   ]
  },
  {
   "cell_type": "code",
   "execution_count": null,
   "metadata": {},
   "outputs": [],
   "source": []
  },
  {
   "cell_type": "markdown",
   "metadata": {},
   "source": [
    "### SQL Avg"
   ]
  },
  {
   "cell_type": "markdown",
   "metadata": {},
   "source": [
    "### SQL Like"
   ]
  },
  {
   "cell_type": "markdown",
   "metadata": {},
   "source": [
    "### SQL WildCards"
   ]
  },
  {
   "cell_type": "markdown",
   "metadata": {},
   "source": [
    "### SQL In"
   ]
  },
  {
   "cell_type": "markdown",
   "metadata": {},
   "source": [
    "### SQL Between"
   ]
  },
  {
   "cell_type": "markdown",
   "metadata": {},
   "source": [
    "### SQL Aliases"
   ]
  },
  {
   "cell_type": "markdown",
   "metadata": {},
   "source": [
    "### SQL Joins"
   ]
  },
  {
   "cell_type": "markdown",
   "metadata": {},
   "source": [
    "### SQL Inner Join"
   ]
  },
  {
   "cell_type": "markdown",
   "metadata": {},
   "source": [
    "### SQL Left Join"
   ]
  },
  {
   "cell_type": "markdown",
   "metadata": {},
   "source": [
    "### SQL Right Join"
   ]
  },
  {
   "cell_type": "markdown",
   "metadata": {},
   "source": [
    "### SQL Full Join"
   ]
  },
  {
   "cell_type": "markdown",
   "metadata": {},
   "source": [
    "### SQL Union"
   ]
  },
  {
   "cell_type": "markdown",
   "metadata": {},
   "source": [
    "### SQL Group By"
   ]
  },
  {
   "cell_type": "markdown",
   "metadata": {},
   "source": [
    "### SQL Having"
   ]
  },
  {
   "cell_type": "markdown",
   "metadata": {},
   "source": [
    "### SQL Exists"
   ]
  },
  {
   "cell_type": "markdown",
   "metadata": {},
   "source": [
    "### SQL Any, All"
   ]
  },
  {
   "cell_type": "markdown",
   "metadata": {},
   "source": [
    "### SQL Select Into"
   ]
  },
  {
   "cell_type": "markdown",
   "metadata": {},
   "source": [
    "### SQL Insert Into Select"
   ]
  },
  {
   "cell_type": "markdown",
   "metadata": {},
   "source": [
    "### SQL Case"
   ]
  },
  {
   "cell_type": "markdown",
   "metadata": {},
   "source": [
    "### SQL Null Functions"
   ]
  },
  {
   "cell_type": "markdown",
   "metadata": {},
   "source": [
    "### SQL Stored Procedures"
   ]
  },
  {
   "cell_type": "markdown",
   "metadata": {},
   "source": [
    "### SQL Comments"
   ]
  },
  {
   "cell_type": "markdown",
   "metadata": {},
   "source": [
    "### SQL Operators"
   ]
  }
 ],
 "metadata": {
  "kernelspec": {
   "display_name": "softeer",
   "language": "python",
   "name": "python3"
  },
  "language_info": {
   "codemirror_mode": {
    "name": "ipython",
    "version": 3
   },
   "file_extension": ".py",
   "mimetype": "text/x-python",
   "name": "python",
   "nbconvert_exporter": "python",
   "pygments_lexer": "ipython3",
   "version": "3.10.16"
  }
 },
 "nbformat": 4,
 "nbformat_minor": 2
}
